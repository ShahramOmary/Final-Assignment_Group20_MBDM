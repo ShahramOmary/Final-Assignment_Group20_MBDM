{
 "cells": [
  {
   "cell_type": "code",
   "execution_count": 1,
   "metadata": {},
   "outputs": [
    {
     "data": {
      "text/plain": [
       "<Logger EMA (DEBUG)>"
      ]
     },
     "execution_count": 1,
     "metadata": {},
     "output_type": "execute_result"
    }
   ],
   "source": [
    "import numpy as np\n",
    "import pandas as pd\n",
    "import matplotlib.pyplot as plt\n",
    "import seaborn as sns\n",
    "\n",
    "from ema_workbench import (Model, MultiprocessingEvaluator, Policy, Scenario)\n",
    "# #running the model through EMA workbench\n",
    "# from ema_workbench import (MultiprocessingEvaluator, ema_logging,\n",
    "#                        perform_experiments, SequentialEvaluator)\n",
    "\n",
    "from ema_workbench.em_framework.evaluators import perform_experiments\n",
    "from ema_workbench.em_framework.samplers import sample_uncertainties\n",
    "from ema_workbench.util import ema_logging\n",
    "from problem_formulation import get_model_for_problem_formulation\n",
    "import copy\n",
    "\n",
    "\n",
    "ema_logging.log_to_stderr(ema_logging.INFO)"
   ]
  },
  {
   "cell_type": "markdown",
   "metadata": {},
   "source": [
    "# define model parameters"
   ]
  },
  {
   "cell_type": "code",
   "execution_count": null,
   "metadata": {},
   "outputs": [],
   "source": []
  },
  {
   "cell_type": "markdown",
   "metadata": {
    "pycharm": {
     "name": "#%% md\n"
    }
   },
   "source": [
    "# Run the model"
   ]
  },
  {
   "cell_type": "code",
   "execution_count": 3,
   "metadata": {
    "collapsed": false,
    "jupyter": {
     "outputs_hidden": false
    },
    "pycharm": {
     "name": "#%%\n"
    }
   },
   "outputs": [
    {
     "name": "stderr",
     "output_type": "stream",
     "text": [
      "[MainProcess/INFO] pool started with 7 workers\n",
      "[MainProcess/INFO] performing 4000 scenarios * 1 policies * 1 model(s) = 4000 experiments\n",
      "100%|██████████████████████████████████████| 4000/4000 [10:38<00:00,  6.26it/s]\n",
      "[MainProcess/INFO] experiments finished\n",
      "[MainProcess/INFO] terminating pool\n",
      "[MainProcess/INFO] results saved successfully to C:\\Users\\Frenk VanDerKraan\\Documents\\TUDelft\\final assignment\\results\\4000  base scenarios policy pf 3.tar.gz\n"
     ]
    }
   ],
   "source": [
    "problem_formulation = 3\n",
    "scenarios = 4000\n",
    "\n",
    "#import the model with the specific problem formulation\n",
    "dike_model, planning_steps = get_model_for_problem_formulation(problem_formulation)\n",
    "\n",
    "# Set uncertainties and levers variables\n",
    "uncertainties = copy.deepcopy(dike_model.uncertainties)\n",
    "levers = copy.deepcopy(dike_model.levers)\n",
    "\n",
    "def get_do_nothing_dict():\n",
    "    return {l.name: 0 for l in dike_model.levers}\n",
    "\n",
    "\n",
    "policies = [\n",
    "    Policy(\n",
    "        \"policy 1\",\n",
    "        **dict(\n",
    "            get_do_nothing_dict(),\n",
    "            **{\"0_RfR 0\": 0, \"0_RfR 1\": 0, \"0_RfR 2\": 0, \"A.1_DikeIncrease 0\": 0}\n",
    "        )\n",
    "    )\n",
    "]\n",
    "\n",
    "# ema_logging.log_to_stderr(ema_logging.INFO)\n",
    "\n",
    "# Make use of the multiprocessing evaluator to save time\n",
    "# running with X scenarios\n",
    "with MultiprocessingEvaluator(dike_model, n_processes=7) as evaluator:\n",
    "    results = evaluator.perform_experiments(scenarios=scenarios, policies=policies)\n",
    "\n",
    "# Save results for later analysis\n",
    "from ema_workbench import save_results\n",
    "file_name = f'{scenarios}  base scenarios policy pf {problem_formulation}.tar.gz'\n",
    "save_results(results, 'results/' + file_name)\n",
    "\n",
    "\n"
   ]
  },
  {
   "cell_type": "code",
   "execution_count": 16,
   "metadata": {},
   "outputs": [
    {
     "name": "stdout",
     "output_type": "stream",
     "text": [
      "[Policy({'0_RfR 0': 0, '0_RfR 1': 0, '0_RfR 2': 0, '1_RfR 0': 0, '1_RfR 1': 0, '1_RfR 2': 0, '2_RfR 0': 0, '2_RfR 1': 0, '2_RfR 2': 0, '3_RfR 0': 0, '3_RfR 1': 0, '3_RfR 2': 0, '4_RfR 0': 0, '4_RfR 1': 0, '4_RfR 2': 0, 'EWS_DaysToThreat': 0, 'A.1_DikeIncrease 0': 0, 'A.1_DikeIncrease 1': 0, 'A.1_DikeIncrease 2': 0, 'A.2_DikeIncrease 0': 0, 'A.2_DikeIncrease 1': 0, 'A.2_DikeIncrease 2': 0, 'A.3_DikeIncrease 0': 0, 'A.3_DikeIncrease 1': 0, 'A.3_DikeIncrease 2': 0, 'A.4_DikeIncrease 0': 0, 'A.4_DikeIncrease 1': 0, 'A.4_DikeIncrease 2': 0, 'A.5_DikeIncrease 0': 0, 'A.5_DikeIncrease 1': 0, 'A.5_DikeIncrease 2': 0})]\n"
     ]
    }
   ],
   "source": [
    "problem_formulation = 3\n",
    "scenarios = 1000\n",
    "\n",
    "#import the model with the specific problem formulation\n",
    "dike_model, planning_steps = get_model_for_problem_formulation(problem_formulation)\n",
    "\n",
    "# Set uncertainties and levers variables\n",
    "uncertainties = copy.deepcopy(dike_model.uncertainties)\n",
    "levers = copy.deepcopy(dike_model.levers)\n",
    "\n",
    "def get_do_nothing_dict():\n",
    "    return {l.name: 0 for l in dike_model.levers}\n",
    "\n",
    "\n",
    "\n",
    "policies = [\n",
    "    Policy(\n",
    "        \"policy 1\",\n",
    "        **dict(\n",
    "            get_do_nothing_dict(),\n",
    "            **{\"0_RfR 0\": 0, \"0_RfR 1\": 0, \"0_RfR 2\": 0, \"A.1_DikeIncrease 0\": 0}\n",
    "        )\n",
    "    )\n",
    "]\n",
    "print(policies)"
   ]
  },
  {
   "cell_type": "markdown",
   "metadata": {},
   "source": [
    "# Scenario Discovery\n"
   ]
  },
  {
   "cell_type": "markdown",
   "metadata": {},
   "source": [
    "## whole Ijsel area"
   ]
  },
  {
   "cell_type": "code",
   "execution_count": 2,
   "metadata": {
    "collapsed": false,
    "jupyter": {
     "outputs_hidden": false
    },
    "pycharm": {
     "name": "#%%\n"
    }
   },
   "outputs": [],
   "source": [
    "#import the model with the specific problem formulation\n",
    "dike_model, planning_steps = get_model_for_problem_formulation(4)"
   ]
  },
  {
   "cell_type": "code",
   "execution_count": 3,
   "metadata": {
    "collapsed": false,
    "jupyter": {
     "outputs_hidden": false
    },
    "pycharm": {
     "name": "#%%\n"
    }
   },
   "outputs": [],
   "source": [
    "# Set uncertainties and levers variables\n",
    "uncertainties = copy.deepcopy(dike_model.uncertainties)\n",
    "levers = copy.deepcopy(dike_model.levers)"
   ]
  },
  {
   "cell_type": "markdown",
   "metadata": {},
   "source": [
    "### run the model PF2"
   ]
  },
  {
   "cell_type": "code",
   "execution_count": 4,
   "metadata": {
    "collapsed": false,
    "jupyter": {
     "outputs_hidden": false
    },
    "pycharm": {
     "name": "#%%\n"
    }
   },
   "outputs": [
    {
     "name": "stderr",
     "output_type": "stream",
     "text": [
      "[MainProcess/INFO] pool started with 7 workers\n",
      "[MainProcess/INFO] performing 1000 scenarios * 1 policies * 1 model(s) = 1000 experiments\n",
      "100%|██████████████████████████████████████| 1000/1000 [03:48<00:00,  4.37it/s]\n",
      "[MainProcess/INFO] experiments finished\n",
      "[MainProcess/INFO] terminating pool\n",
      "[MainProcess/INFO] results saved successfully to C:\\Users\\frenk\\Documents\\universiteit\\CME jaar 2\\2.4 kwartaal 4\\model based decision making\\final assignment\\results\\1000 scenarios 1 policy PF4.tar.gz\n"
     ]
    }
   ],
   "source": [
    "#running the model through EMA workbench\n",
    "from ema_workbench import (MultiprocessingEvaluator, ema_logging,\n",
    "                           perform_experiments, SequentialEvaluator)\n",
    "ema_logging.log_to_stderr(ema_logging.INFO)\n",
    "\n",
    "# Make use of the multiprocessing evaluator to save time\n",
    "# running with X scenarios\n",
    "with MultiprocessingEvaluator(dike_model, n_processes=7) as evaluator:\n",
    "    results = evaluator.perform_experiments(scenarios=1000, policies=1)\n",
    "\n",
    "# Save results for later analysis\n",
    "from ema_workbench import save_results\n",
    "save_results(results, 'results/1000 scenarios 1 policy PF4.tar.gz')"
   ]
  },
  {
   "cell_type": "code",
   "execution_count": 5,
   "metadata": {
    "collapsed": false,
    "jupyter": {
     "outputs_hidden": false
    },
    "pycharm": {
     "name": "#%%\n"
    }
   },
   "outputs": [],
   "source": [
    "experiments, outcomes = results"
   ]
  },
  {
   "cell_type": "markdown",
   "metadata": {},
   "source": [
    "### PRIM"
   ]
  },
  {
   "cell_type": "code",
   "execution_count": 3,
   "metadata": {
    "collapsed": false,
    "jupyter": {
     "outputs_hidden": false
    },
    "pycharm": {
     "name": "#%%\n"
    }
   },
   "outputs": [
    {
     "name": "stderr",
     "output_type": "stream",
     "text": [
      "[MainProcess/INFO] results loaded successfully from C:\\Users\\frenk\\Documents\\universiteit\\CME jaar 2\\2.4 kwartaal 4\\model based decision making\\final assignment\\results\\4000 scenarios 2 policy PF2.tar.gz\n"
     ]
    },
    {
     "name": "stdout",
     "output_type": "stream",
     "text": [
      "dict_keys(['Expected Annual Damage', 'Dike Investment Costs', 'RfR Investment Costs', 'Evacuation Costs', 'Expected Number of Deaths'])\n"
     ]
    }
   ],
   "source": [
    "# #choose problem formulation number, between 0-5\n",
    "# #each problem formulation has its own list of outcomes\n",
    "# dike_model, planning_steps = get_model_for_problem_formulation(1)\n",
    "#\n",
    "# from ema_workbench import load_results\n",
    "#\n",
    "# # Load results that were previously generated\n",
    "# load_file_name ='results/4000 scenarios 1 policy PF2.tar.gz'\n",
    "# results = load_results(load_file_name)\n",
    "#\n",
    "# # See what the results look like and what outcomes were captured\n",
    "# experiments, outcomes = results\n",
    "# print(outcomes.keys())"
   ]
  },
  {
   "cell_type": "code",
   "execution_count": 10,
   "metadata": {
    "collapsed": false,
    "jupyter": {
     "outputs_hidden": false
    },
    "pycharm": {
     "name": "#%%\n"
    }
   },
   "outputs": [
    {
     "name": "stdout",
     "output_type": "stream",
     "text": [
      "dict_keys(['Expected Annual Damage', 'Dike Investment Costs', 'Expected Number of Deaths', 'RfR Total Costs', 'Expected Evacuation Costs'])\n"
     ]
    }
   ],
   "source": [
    "print(outcomes.keys())"
   ]
  },
  {
   "cell_type": "code",
   "execution_count": 6,
   "metadata": {
    "collapsed": false,
    "jupyter": {
     "outputs_hidden": false
    },
    "pycharm": {
     "name": "#%%\n"
    }
   },
   "outputs": [
    {
     "name": "stderr",
     "output_type": "stream",
     "text": [
      "C:\\Users\\frenk\\AppData\\Local\\Programs\\Python\\Python311\\Lib\\site-packages\\ema_workbench\\analysis\\prim.py:30: ImportWarning: altair based interactive inspection not available\n",
      "  warnings.warn((\"altair based interactive \" \"inspection not available\"), ImportWarning)\n"
     ]
    }
   ],
   "source": [
    "from ema_workbench.analysis import prim\n",
    "from ema_workbench import ema_logging\n",
    "ema_logging.log_to_stderr(ema_logging.INFO)\n",
    "\n",
    "x = experiments.loc[:,:'discount rate 2']\n",
    "outcomes_values = outcomes['Expected Annual Damage']\n",
    "# Set our output threshold to be the 90th percentile of all of those outputs\n",
    "y_limit = np.quantile(outcomes_values, 0.8)\n",
    "\n",
    "# Only select outputs that are above this threshold\n",
    "y = np.array([value > y_limit for value in outcomes_values])\n",
    "\n",
    "# Conduct our prim analysis using a threshold of 0.8\n",
    "prim_alg = prim.Prim(x, y, threshold=0.8)"
   ]
  },
  {
   "cell_type": "code",
   "execution_count": 7,
   "metadata": {
    "collapsed": false,
    "jupyter": {
     "outputs_hidden": false
    },
    "pycharm": {
     "name": "#%%\n"
    }
   },
   "outputs": [
    {
     "name": "stderr",
     "output_type": "stream",
     "text": [
      "[MainProcess/INFO] 1000 points remaining, containing 199 cases of interest\n",
      "[MainProcess/INFO] mean: 1.0, mass: 0.151, coverage: 0.7587939698492462, density: 1.0 restricted_dimensions: 1\n"
     ]
    }
   ],
   "source": [
    "box1 = prim_alg.find_box()"
   ]
  },
  {
   "cell_type": "code",
   "execution_count": 15,
   "metadata": {
    "collapsed": false,
    "jupyter": {
     "outputs_hidden": false
    },
    "pycharm": {
     "name": "#%%\n"
    }
   },
   "outputs": [],
   "source": [
    "# Enable matplotlib interactive mode\n",
    "# %matplotlib notebook\n"
   ]
  },
  {
   "cell_type": "code",
   "execution_count": 8,
   "metadata": {
    "collapsed": false,
    "jupyter": {
     "outputs_hidden": false
    },
    "pycharm": {
     "name": "#%%\n"
    }
   },
   "outputs": [
    {
     "data": {
      "image/png": "[encoded data removed]",
      "text/plain": [
       "<Figure size 640x480 with 2 Axes>"
      ]
     },
     "metadata": {},
     "output_type": "display_data"
    }
   ],
   "source": [
    "import matplotlib.pyplot as plt\n",
    "\n",
    "box1.show_tradeoff(annotated=True)\n",
    "plt.show()"
   ]
  },
  {
   "cell_type": "code",
   "execution_count": 13,
   "metadata": {
    "collapsed": false,
    "jupyter": {
     "outputs_hidden": false
    },
    "pycharm": {
     "name": "#%%\n"
    }
   },
   "outputs": [
    {
     "name": "stdout",
     "output_type": "stream",
     "text": [
      "coverage     0.793970\n",
      "density      0.993711\n",
      "id          35.000000\n",
      "mass         0.159000\n",
      "mean         0.993711\n",
      "res_dim      1.000000\n",
      "Name: 35, dtype: float64\n",
      "\n",
      "             box 35                                  \n",
      "                min       max qp value       qp value\n",
      "A.3_pfail  0.000055  0.159314      NaN  2.111027e-109\n",
      "\n"
     ]
    },
    {
     "data": {
      "text/plain": [
       "[None]"
      ]
     },
     "execution_count": 13,
     "metadata": {},
     "output_type": "execute_result"
    }
   ],
   "source": [
    "point = 34\n",
    "box1.inspect(point)"
   ]
  },
  {
   "cell_type": "code",
   "execution_count": null,
   "metadata": {
    "collapsed": false,
    "jupyter": {
     "outputs_hidden": false
    },
    "pycharm": {
     "name": "#%%\n"
    }
   },
   "outputs": [],
   "source": [
    "box1.inspect(point, style='graph')\n",
    "plt.show()"
   ]
  },
  {
   "cell_type": "markdown",
   "metadata": {
    "pycharm": {
     "name": "#%% md\n"
    }
   },
   "source": [
    "## Overijsel area"
   ]
  },
  {
   "cell_type": "code",
   "execution_count": 5,
   "metadata": {
    "collapsed": false,
    "jupyter": {
     "outputs_hidden": false
    },
    "pycharm": {
     "name": "#%%\n"
    }
   },
   "outputs": [
    {
     "name": "stderr",
     "output_type": "stream",
     "text": [
      "[MainProcess/INFO] results loaded successfully from C:\\Users\\frenk\\Documents\\universiteit\\CME jaar 2\\2.4 kwartaal 4\\model based decision making\\final assignment\\results\\100  scenarios 1 policy pf 3.tar.gz\n"
     ]
    },
    {
     "name": "stdout",
     "output_type": "stream",
     "text": [
      "dict_keys(['A.1 Total Costs', 'A.1_Expected Number of Deaths', 'A.2 Total Costs', 'A.2_Expected Number of Deaths', 'A.3 Total Costs', 'A.3_Expected Number of Deaths', 'A.4 Total Costs', 'A.4_Expected Number of Deaths', 'A.5 Total Costs', 'A.5_Expected Number of Deaths', 'RfR Total Costs', 'Expected Evacuation Costs'])\n"
     ]
    }
   ],
   "source": [
    "# from ema_workbench import load_results\n",
    "\n",
    "# # Load results that were previously generated\n",
    "# load_file_name ='results/100  scenarios 1 policy pf 3.tar.gz'\n",
    "# results = load_results(load_file_name)\n",
    "\n",
    "# # See what the results look like and what outcomes were captured\n",
    "# experiments, outcomes = results\n",
    "# print(outcomes.keys())"
   ]
  },
  {
   "cell_type": "markdown",
   "metadata": {},
   "source": [
    "### import the model PF3"
   ]
  },
  {
   "cell_type": "code",
   "execution_count": 2,
   "metadata": {
    "collapsed": false,
    "jupyter": {
     "outputs_hidden": false
    },
    "pycharm": {
     "name": "#%%\n"
    }
   },
   "outputs": [
    {
     "name": "stderr",
     "output_type": "stream",
     "text": [
      "[MainProcess/INFO] results loaded successfully from C:\\Users\\Frenk VanDerKraan\\Documents\\TUDelft\\final assignment\\results\\4000  base scenarios policy pf 3.tar.gz\n"
     ]
    }
   ],
   "source": [
    "from ema_workbench import load_results\n",
    "\n",
    "# Load results that were previously generated\n",
    "load_file_name ='results/4000  base scenarios policy pf 3.tar.gz'\n",
    "experiments, outcomes = load_results(load_file_name)"
   ]
  },
  {
   "cell_type": "code",
   "execution_count": 5,
   "metadata": {
    "collapsed": false,
    "jupyter": {
     "outputs_hidden": false
    },
    "pycharm": {
     "name": "#%%\n"
    }
   },
   "outputs": [
    {
     "name": "stdout",
     "output_type": "stream",
     "text": [
      "dict_keys(['A.1 Total Costs', 'A.1_Expected Number of Deaths', 'A.2 Total Costs', 'A.2_Expected Number of Deaths', 'A.3 Total Costs', 'A.3_Expected Number of Deaths', 'A.4 Total Costs', 'A.4_Expected Number of Deaths', 'A.5 Total Costs', 'A.5_Expected Number of Deaths', 'RfR Total Costs', 'Expected Evacuation Costs'])\n"
     ]
    },
    {
     "data": {
      "text/html": [
       "<div>\n",
       "<style scoped>\n",
       "    .dataframe tbody tr th:only-of-type {\n",
       "        vertical-align: middle;\n",
       "    }\n",
       "\n",
       "    .dataframe tbody tr th {\n",
       "        vertical-align: top;\n",
       "    }\n",
       "\n",
       "    .dataframe thead th {\n",
       "        text-align: right;\n",
       "    }\n",
       "</style>\n",
       "<table border=\"1\" class=\"dataframe\">\n",
       "  <thead>\n",
       "    <tr style=\"text-align: right;\">\n",
       "      <th></th>\n",
       "      <th>A.0_ID flood wave shape</th>\n",
       "      <th>A.1_Bmax</th>\n",
       "      <th>A.1_Brate</th>\n",
       "      <th>A.1_pfail</th>\n",
       "      <th>A.2_Bmax</th>\n",
       "      <th>A.2_Brate</th>\n",
       "      <th>A.2_pfail</th>\n",
       "      <th>A.3_Bmax</th>\n",
       "      <th>A.3_Brate</th>\n",
       "      <th>A.3_pfail</th>\n",
       "      <th>...</th>\n",
       "      <th>A.3_DikeIncrease 2</th>\n",
       "      <th>A.4_DikeIncrease 0</th>\n",
       "      <th>A.4_DikeIncrease 1</th>\n",
       "      <th>A.4_DikeIncrease 2</th>\n",
       "      <th>A.5_DikeIncrease 0</th>\n",
       "      <th>A.5_DikeIncrease 1</th>\n",
       "      <th>A.5_DikeIncrease 2</th>\n",
       "      <th>scenario</th>\n",
       "      <th>policy</th>\n",
       "      <th>model</th>\n",
       "    </tr>\n",
       "  </thead>\n",
       "  <tbody>\n",
       "    <tr>\n",
       "      <th>0</th>\n",
       "      <td>31</td>\n",
       "      <td>218.416910</td>\n",
       "      <td>1.5</td>\n",
       "      <td>0.758529</td>\n",
       "      <td>249.380665</td>\n",
       "      <td>1.0</td>\n",
       "      <td>0.579663</td>\n",
       "      <td>76.455316</td>\n",
       "      <td>1.5</td>\n",
       "      <td>0.015850</td>\n",
       "      <td>...</td>\n",
       "      <td>0</td>\n",
       "      <td>0</td>\n",
       "      <td>0</td>\n",
       "      <td>0</td>\n",
       "      <td>0</td>\n",
       "      <td>0</td>\n",
       "      <td>0</td>\n",
       "      <td>0</td>\n",
       "      <td>policy 1</td>\n",
       "      <td>dikesnet</td>\n",
       "    </tr>\n",
       "    <tr>\n",
       "      <th>1</th>\n",
       "      <td>119</td>\n",
       "      <td>33.578084</td>\n",
       "      <td>1.5</td>\n",
       "      <td>0.969431</td>\n",
       "      <td>250.076413</td>\n",
       "      <td>1.0</td>\n",
       "      <td>0.905285</td>\n",
       "      <td>261.754102</td>\n",
       "      <td>1.0</td>\n",
       "      <td>0.606421</td>\n",
       "      <td>...</td>\n",
       "      <td>0</td>\n",
       "      <td>0</td>\n",
       "      <td>0</td>\n",
       "      <td>0</td>\n",
       "      <td>0</td>\n",
       "      <td>0</td>\n",
       "      <td>0</td>\n",
       "      <td>1</td>\n",
       "      <td>policy 1</td>\n",
       "      <td>dikesnet</td>\n",
       "    </tr>\n",
       "    <tr>\n",
       "      <th>2</th>\n",
       "      <td>10</td>\n",
       "      <td>291.684050</td>\n",
       "      <td>1.0</td>\n",
       "      <td>0.771114</td>\n",
       "      <td>144.855169</td>\n",
       "      <td>1.0</td>\n",
       "      <td>0.463173</td>\n",
       "      <td>106.911678</td>\n",
       "      <td>1.0</td>\n",
       "      <td>0.163265</td>\n",
       "      <td>...</td>\n",
       "      <td>0</td>\n",
       "      <td>0</td>\n",
       "      <td>0</td>\n",
       "      <td>0</td>\n",
       "      <td>0</td>\n",
       "      <td>0</td>\n",
       "      <td>0</td>\n",
       "      <td>2</td>\n",
       "      <td>policy 1</td>\n",
       "      <td>dikesnet</td>\n",
       "    </tr>\n",
       "    <tr>\n",
       "      <th>3</th>\n",
       "      <td>49</td>\n",
       "      <td>133.104980</td>\n",
       "      <td>1.0</td>\n",
       "      <td>0.384650</td>\n",
       "      <td>69.526427</td>\n",
       "      <td>1.5</td>\n",
       "      <td>0.914441</td>\n",
       "      <td>279.666357</td>\n",
       "      <td>10.0</td>\n",
       "      <td>0.530577</td>\n",
       "      <td>...</td>\n",
       "      <td>0</td>\n",
       "      <td>0</td>\n",
       "      <td>0</td>\n",
       "      <td>0</td>\n",
       "      <td>0</td>\n",
       "      <td>0</td>\n",
       "      <td>0</td>\n",
       "      <td>3</td>\n",
       "      <td>policy 1</td>\n",
       "      <td>dikesnet</td>\n",
       "    </tr>\n",
       "    <tr>\n",
       "      <th>4</th>\n",
       "      <td>3</td>\n",
       "      <td>286.098693</td>\n",
       "      <td>10.0</td>\n",
       "      <td>0.078982</td>\n",
       "      <td>193.135959</td>\n",
       "      <td>1.0</td>\n",
       "      <td>0.893144</td>\n",
       "      <td>47.182791</td>\n",
       "      <td>1.5</td>\n",
       "      <td>0.543908</td>\n",
       "      <td>...</td>\n",
       "      <td>0</td>\n",
       "      <td>0</td>\n",
       "      <td>0</td>\n",
       "      <td>0</td>\n",
       "      <td>0</td>\n",
       "      <td>0</td>\n",
       "      <td>0</td>\n",
       "      <td>4</td>\n",
       "      <td>policy 1</td>\n",
       "      <td>dikesnet</td>\n",
       "    </tr>\n",
       "    <tr>\n",
       "      <th>...</th>\n",
       "      <td>...</td>\n",
       "      <td>...</td>\n",
       "      <td>...</td>\n",
       "      <td>...</td>\n",
       "      <td>...</td>\n",
       "      <td>...</td>\n",
       "      <td>...</td>\n",
       "      <td>...</td>\n",
       "      <td>...</td>\n",
       "      <td>...</td>\n",
       "      <td>...</td>\n",
       "      <td>...</td>\n",
       "      <td>...</td>\n",
       "      <td>...</td>\n",
       "      <td>...</td>\n",
       "      <td>...</td>\n",
       "      <td>...</td>\n",
       "      <td>...</td>\n",
       "      <td>...</td>\n",
       "      <td>...</td>\n",
       "      <td>...</td>\n",
       "    </tr>\n",
       "    <tr>\n",
       "      <th>3995</th>\n",
       "      <td>121</td>\n",
       "      <td>251.814686</td>\n",
       "      <td>1.5</td>\n",
       "      <td>0.841451</td>\n",
       "      <td>313.333153</td>\n",
       "      <td>10.0</td>\n",
       "      <td>0.733286</td>\n",
       "      <td>182.568829</td>\n",
       "      <td>1.0</td>\n",
       "      <td>0.564667</td>\n",
       "      <td>...</td>\n",
       "      <td>0</td>\n",
       "      <td>0</td>\n",
       "      <td>0</td>\n",
       "      <td>0</td>\n",
       "      <td>0</td>\n",
       "      <td>0</td>\n",
       "      <td>0</td>\n",
       "      <td>3995</td>\n",
       "      <td>policy 1</td>\n",
       "      <td>dikesnet</td>\n",
       "    </tr>\n",
       "    <tr>\n",
       "      <th>3996</th>\n",
       "      <td>104</td>\n",
       "      <td>96.680122</td>\n",
       "      <td>1.5</td>\n",
       "      <td>0.402793</td>\n",
       "      <td>315.524262</td>\n",
       "      <td>1.0</td>\n",
       "      <td>0.033865</td>\n",
       "      <td>133.084429</td>\n",
       "      <td>1.5</td>\n",
       "      <td>0.503735</td>\n",
       "      <td>...</td>\n",
       "      <td>0</td>\n",
       "      <td>0</td>\n",
       "      <td>0</td>\n",
       "      <td>0</td>\n",
       "      <td>0</td>\n",
       "      <td>0</td>\n",
       "      <td>0</td>\n",
       "      <td>3996</td>\n",
       "      <td>policy 1</td>\n",
       "      <td>dikesnet</td>\n",
       "    </tr>\n",
       "    <tr>\n",
       "      <th>3997</th>\n",
       "      <td>107</td>\n",
       "      <td>326.855770</td>\n",
       "      <td>10.0</td>\n",
       "      <td>0.155556</td>\n",
       "      <td>325.329399</td>\n",
       "      <td>1.0</td>\n",
       "      <td>0.215002</td>\n",
       "      <td>201.318521</td>\n",
       "      <td>1.5</td>\n",
       "      <td>0.611371</td>\n",
       "      <td>...</td>\n",
       "      <td>0</td>\n",
       "      <td>0</td>\n",
       "      <td>0</td>\n",
       "      <td>0</td>\n",
       "      <td>0</td>\n",
       "      <td>0</td>\n",
       "      <td>0</td>\n",
       "      <td>3997</td>\n",
       "      <td>policy 1</td>\n",
       "      <td>dikesnet</td>\n",
       "    </tr>\n",
       "    <tr>\n",
       "      <th>3998</th>\n",
       "      <td>98</td>\n",
       "      <td>211.456298</td>\n",
       "      <td>10.0</td>\n",
       "      <td>0.243812</td>\n",
       "      <td>325.479483</td>\n",
       "      <td>10.0</td>\n",
       "      <td>0.950388</td>\n",
       "      <td>211.230196</td>\n",
       "      <td>10.0</td>\n",
       "      <td>0.197271</td>\n",
       "      <td>...</td>\n",
       "      <td>0</td>\n",
       "      <td>0</td>\n",
       "      <td>0</td>\n",
       "      <td>0</td>\n",
       "      <td>0</td>\n",
       "      <td>0</td>\n",
       "      <td>0</td>\n",
       "      <td>3998</td>\n",
       "      <td>policy 1</td>\n",
       "      <td>dikesnet</td>\n",
       "    </tr>\n",
       "    <tr>\n",
       "      <th>3999</th>\n",
       "      <td>13</td>\n",
       "      <td>30.722863</td>\n",
       "      <td>1.5</td>\n",
       "      <td>0.821601</td>\n",
       "      <td>310.174069</td>\n",
       "      <td>1.0</td>\n",
       "      <td>0.151283</td>\n",
       "      <td>135.031025</td>\n",
       "      <td>1.0</td>\n",
       "      <td>0.791605</td>\n",
       "      <td>...</td>\n",
       "      <td>0</td>\n",
       "      <td>0</td>\n",
       "      <td>0</td>\n",
       "      <td>0</td>\n",
       "      <td>0</td>\n",
       "      <td>0</td>\n",
       "      <td>0</td>\n",
       "      <td>3999</td>\n",
       "      <td>policy 1</td>\n",
       "      <td>dikesnet</td>\n",
       "    </tr>\n",
       "  </tbody>\n",
       "</table>\n",
       "<p>4000 rows × 53 columns</p>\n",
       "</div>"
      ],
      "text/plain": [
       "      A.0_ID flood wave shape    A.1_Bmax  A.1_Brate  A.1_pfail    A.2_Bmax  \\\n",
       "0                          31  218.416910        1.5   0.758529  249.380665   \n",
       "1                         119   33.578084        1.5   0.969431  250.076413   \n",
       "2                          10  291.684050        1.0   0.771114  144.855169   \n",
       "3                          49  133.104980        1.0   0.384650   69.526427   \n",
       "4                           3  286.098693       10.0   0.078982  193.135959   \n",
       "...                       ...         ...        ...        ...         ...   \n",
       "3995                      121  251.814686        1.5   0.841451  313.333153   \n",
       "3996                      104   96.680122        1.5   0.402793  315.524262   \n",
       "3997                      107  326.855770       10.0   0.155556  325.329399   \n",
       "3998                       98  211.456298       10.0   0.243812  325.479483   \n",
       "3999                       13   30.722863        1.5   0.821601  310.174069   \n",
       "\n",
       "      A.2_Brate  A.2_pfail    A.3_Bmax  A.3_Brate  A.3_pfail  ...  \\\n",
       "0           1.0   0.579663   76.455316        1.5   0.015850  ...   \n",
       "1           1.0   0.905285  261.754102        1.0   0.606421  ...   \n",
       "2           1.0   0.463173  106.911678        1.0   0.163265  ...   \n",
       "3           1.5   0.914441  279.666357       10.0   0.530577  ...   \n",
       "4           1.0   0.893144   47.182791        1.5   0.543908  ...   \n",
       "...         ...        ...         ...        ...        ...  ...   \n",
       "3995       10.0   0.733286  182.568829        1.0   0.564667  ...   \n",
       "3996        1.0   0.033865  133.084429        1.5   0.503735  ...   \n",
       "3997        1.0   0.215002  201.318521        1.5   0.611371  ...   \n",
       "3998       10.0   0.950388  211.230196       10.0   0.197271  ...   \n",
       "3999        1.0   0.151283  135.031025        1.0   0.791605  ...   \n",
       "\n",
       "      A.3_DikeIncrease 2  A.4_DikeIncrease 0  A.4_DikeIncrease 1  \\\n",
       "0                      0                   0                   0   \n",
       "1                      0                   0                   0   \n",
       "2                      0                   0                   0   \n",
       "3                      0                   0                   0   \n",
       "4                      0                   0                   0   \n",
       "...                  ...                 ...                 ...   \n",
       "3995                   0                   0                   0   \n",
       "3996                   0                   0                   0   \n",
       "3997                   0                   0                   0   \n",
       "3998                   0                   0                   0   \n",
       "3999                   0                   0                   0   \n",
       "\n",
       "      A.4_DikeIncrease 2  A.5_DikeIncrease 0  A.5_DikeIncrease 1  \\\n",
       "0                      0                   0                   0   \n",
       "1                      0                   0                   0   \n",
       "2                      0                   0                   0   \n",
       "3                      0                   0                   0   \n",
       "4                      0                   0                   0   \n",
       "...                  ...                 ...                 ...   \n",
       "3995                   0                   0                   0   \n",
       "3996                   0                   0                   0   \n",
       "3997                   0                   0                   0   \n",
       "3998                   0                   0                   0   \n",
       "3999                   0                   0                   0   \n",
       "\n",
       "      A.5_DikeIncrease 2  scenario    policy     model  \n",
       "0                      0         0  policy 1  dikesnet  \n",
       "1                      0         1  policy 1  dikesnet  \n",
       "2                      0         2  policy 1  dikesnet  \n",
       "3                      0         3  policy 1  dikesnet  \n",
       "4                      0         4  policy 1  dikesnet  \n",
       "...                  ...       ...       ...       ...  \n",
       "3995                   0      3995  policy 1  dikesnet  \n",
       "3996                   0      3996  policy 1  dikesnet  \n",
       "3997                   0      3997  policy 1  dikesnet  \n",
       "3998                   0      3998  policy 1  dikesnet  \n",
       "3999                   0      3999  policy 1  dikesnet  \n",
       "\n",
       "[4000 rows x 53 columns]"
      ]
     },
     "metadata": {},
     "output_type": "display_data"
    }
   ],
   "source": [
    "# experiments, outcomes = results\n",
    "print(outcomes.keys())\n",
    "display(experiments)\n"
   ]
  },
  {
   "cell_type": "code",
   "execution_count": 8,
   "metadata": {},
   "outputs": [],
   "source": [
    "# outcome_names_overijsel = outcome_names_ring_4 + outcome_names_ring_5\n",
    "cost_ring_4 = outcomes['A.4 Total Costs']\n",
    "cost_ring_5 = outcomes['A.5 Total Costs']\n",
    "fatalities_ring_4 = outcomes['A.4_Expected Number of Deaths']\n",
    "fatalities_ring_5 = outcomes['A.5_Expected Number of Deaths']\n",
    "\n",
    "\n",
    "outcomes['overijssel Total Costs'] = cost_ring_4 + cost_ring_5\n",
    "outcomes['overijssel_Expected Number of Deaths'] = fatalities_ring_4 + fatalities_ring_5\n",
    "\n",
    "# print(cost_ring_4[5] + cost_ring_5[5])\n",
    "# print(cost_overijssel[5])\n",
    "\n",
    "\n",
    "experiments_ring_4 = experiments.loc[:, 'A.4_Bmax':'A.4_pfail']\n",
    "experiments_ring_5 = experiments.loc[:, 'A.5_Bmax':'A.5_pfail']\n",
    "experiments_overijsel = experiments.loc[:, 'A.4_Bmax':'A.5_pfail']"
   ]
  },
  {
   "cell_type": "markdown",
   "metadata": {
    "pycharm": {
     "name": "#%% md\n"
    }
   },
   "source": [
    "### PRIM calculation"
   ]
  },
  {
   "cell_type": "code",
   "execution_count": 24,
   "metadata": {
    "collapsed": false,
    "jupyter": {
     "outputs_hidden": false
    },
    "pycharm": {
     "name": "#%%\n"
    }
   },
   "outputs": [],
   "source": [
    "from ema_workbench.analysis import prim\n",
    "from ema_workbench import ema_logging\n",
    "ema_logging.log_to_stderr(ema_logging.INFO)\n",
    "\n",
    "# x_arrays = [experiments_ring_4, experiments_ring_5, experiments_overijsel]\n",
    "# outcome_arrays_ring_4 = [cost_ring_4, fatalities_ring_4]\n",
    "# outcome_arrays_ring_5 = [cost_ring_5, fatalities_ring_5] \n",
    "# outcome_arrays_overijssel = [cost_overijssel, fatalities_overijsel]\n",
    "# all_outcomes = outcome_arrays_ring_4 + outcome_arrays_ring_5 + outcome_arrays_overijssel\n",
    "outcome_names_ring_4 = ['A.4 Total Costs', 'A.4_Expected Number of Deaths']\n",
    "outcome_names_ring_5 = ['A.5 Total Costs', 'A.5_Expected Number of Deaths']\n",
    "\n",
    "quantile = 0.75\n",
    "\n",
    "prim_objects = {}\n",
    "\n",
    "def find_PRIM(outcome_name, x, quantile = 0.95, threshold = 0.5):\n",
    "    #     outcomes_values = outcomes['Expected Annual Damage']\n",
    "    # Set our output threshold to be the 90th percentile of all of those outputs\n",
    "    y_all = outcomes[outcome_name]\n",
    "    y_limit = np.quantile(y_all, quantile)\n",
    "\n",
    "    # # Only select outputs that are above this threshold\n",
    "    y = np.array([value > y_limit for value in y_all])\n",
    "    \n",
    "    # Conduct our prim analysis using a threshold of 0.8\n",
    "    prim_alg = prim.Prim(x, y, threshold= threshold)\n",
    "    # prim_objects[outcome_name + ' PRIM'] = prim_alg\n",
    "    return prim_alg\n",
    " \n",
    "#get the outcomes of ring A4\n",
    "Prim_cost_ring4 = find_PRIM('A.4 Total Costs', experiments_ring_4)\n",
    "Prim_deaths_ring4 = find_PRIM('A.4_Expected Number of Deaths', experiments_ring_4)\n",
    "\n",
    "#get outcomes of ring A5\n",
    "Prim_cost_ring5 = find_PRIM('A.5 Total Costs', experiments_ring_5)\n",
    "Prim_deaths_ring5 = find_PRIM('A.5_Expected Number of Deaths', experiments_ring_5)\n",
    "\n",
    "#get outcomes of overijssel\n",
    "Prim_cost_overijssel = find_PRIM('overijssel Total Costs', experiments_ring_5)\n",
    "Prim_deaths_overijssel = find_PRIM('overijssel_Expected Number of Deaths', experiments_overijsel)    \n",
    "    \n"
   ]
  },
  {
   "cell_type": "code",
   "execution_count": 25,
   "metadata": {},
   "outputs": [
    {
     "name": "stderr",
     "output_type": "stream",
     "text": [
      "[MainProcess/INFO] 4000 points remaining, containing 200 cases of interest\n",
      "[MainProcess/INFO] mean: 0.5603864734299517, mass: 0.05175, coverage: 0.58, density: 0.5603864734299517 restricted_dimensions: 2\n"
     ]
    },
    {
     "data": {
      "image/png": "[encoded data removed]",
      "text/plain": [
       "<Figure size 432x288 with 2 Axes>"
      ]
     },
     "metadata": {
      "needs_background": "light"
     },
     "output_type": "display_data"
    }
   ],
   "source": [
    "# prim_obj =prim_objects['A.4 Total Costs PRIM']\n",
    "box1 = Prim_cost_overijssel.find_box()\n",
    "box1.show_tradeoff(annotated=True)\n",
    "plt.show()"
   ]
  },
  {
   "cell_type": "code",
   "execution_count": 31,
   "metadata": {
    "collapsed": false,
    "jupyter": {
     "outputs_hidden": false
    },
    "pycharm": {
     "name": "#%%\n"
    }
   },
   "outputs": [
    {
     "name": "stderr",
     "output_type": "stream",
     "text": [
      "[MainProcess/INFO] 1000 points remaining, containing 6 cases of interest\n",
      "[MainProcess/INFO] box does not meet threshold criteria, value is 0.07407407407407407, returning dump box\n"
     ]
    },
    {
     "data": {
      "image/png": "[encoded data removed]",
      "text/plain": [
       "<Figure size 432x288 with 2 Axes>"
      ]
     },
     "metadata": {
      "needs_background": "light"
     },
     "output_type": "display_data"
    },
    {
     "name": "stderr",
     "output_type": "stream",
     "text": [
      "[MainProcess/INFO] 1000 points remaining, containing 6 cases of interest\n",
      "[MainProcess/INFO] box does not meet threshold criteria, value is 0.07407407407407407, returning dump box\n"
     ]
    },
    {
     "data": {
      "image/png": "[encoded data removed]",
      "text/plain": [
       "<Figure size 432x288 with 2 Axes>"
      ]
     },
     "metadata": {
      "needs_background": "light"
     },
     "output_type": "display_data"
    },
    {
     "name": "stderr",
     "output_type": "stream",
     "text": [
      "[MainProcess/INFO] 1000 points remaining, containing 64 cases of interest\n",
      "[MainProcess/INFO] mean: 0.7547169811320755, mass: 0.053, coverage: 0.625, density: 0.7547169811320755 restricted_dimensions: 3\n"
     ]
    },
    {
     "data": {
      "image/png": "[encoded data removed]",
      "text/plain": [
       "<Figure size 432x288 with 2 Axes>"
      ]
     },
     "metadata": {
      "needs_background": "light"
     },
     "output_type": "display_data"
    },
    {
     "name": "stderr",
     "output_type": "stream",
     "text": [
      "[MainProcess/INFO] 1000 points remaining, containing 64 cases of interest\n",
      "[MainProcess/INFO] mean: 0.7547169811320755, mass: 0.053, coverage: 0.625, density: 0.7547169811320755 restricted_dimensions: 3\n"
     ]
    },
    {
     "data": {
      "image/png": "[encoded data removed]",
      "text/plain": [
       "<Figure size 432x288 with 2 Axes>"
      ]
     },
     "metadata": {
      "needs_background": "light"
     },
     "output_type": "display_data"
    }
   ],
   "source": [
    "import matplotlib.pyplot as plt\n",
    "\n",
    "for PRIM in prim_objects.keys():\n",
    "    # prim_obj =prim_objects['A.4 Total Costs PRIM']\n",
    "    box1 = prim_objects[PRIM].find_box()\n",
    "    if box1:\n",
    "        box1.show_tradeoff(annotated=True)\n",
    "        plt.show()"
   ]
  },
  {
   "cell_type": "code",
   "execution_count": 31,
   "metadata": {
    "collapsed": false,
    "jupyter": {
     "outputs_hidden": false
    },
    "pycharm": {
     "name": "#%%\n"
    }
   },
   "outputs": [],
   "source": [
    "# Enable matplotlib interactive mode\n",
    "# %matplotlib notebook"
   ]
  },
  {
   "cell_type": "code",
   "execution_count": 9,
   "metadata": {
    "collapsed": false,
    "jupyter": {
     "outputs_hidden": false
    },
    "pycharm": {
     "name": "#%%\n"
    }
   },
   "outputs": [
    {
     "data": {
      "image/png": "[encoded data removed]",
      "text/plain": [
       "<Figure size 432x288 with 2 Axes>"
      ]
     },
     "metadata": {
      "needs_background": "light"
     },
     "output_type": "display_data"
    }
   ],
   "source": [
    "import matplotlib.pyplot as plt\n",
    "\n",
    "box1.show_tradeoff(annotated=True)\n",
    "plt.show()"
   ]
  },
  {
   "cell_type": "code",
   "execution_count": 33,
   "metadata": {
    "collapsed": false,
    "jupyter": {
     "outputs_hidden": false
    },
    "pycharm": {
     "name": "#%%\n"
    }
   },
   "outputs": [
    {
     "name": "stdout",
     "output_type": "stream",
     "text": [
      "coverage     0.680000\n",
      "density      0.906667\n",
      "id          24.000000\n",
      "mass         0.075000\n",
      "mean         0.906667\n",
      "res_dim      2.000000\n",
      "Name: 24, dtype: float64\n",
      "\n",
      "             box 24                                 \n",
      "                min       max qp value      qp value\n",
      "A.1_pfail  0.000630  0.082080      NaN  2.906888e-58\n",
      "A.2_pfail  0.000505  0.902799      NaN  2.911428e-01\n",
      "\n"
     ]
    },
    {
     "data": {
      "text/plain": [
       "[None]"
      ]
     },
     "execution_count": 33,
     "metadata": {},
     "output_type": "execute_result"
    }
   ],
   "source": [
    "point = 24\n",
    "box1.inspect(point)"
   ]
  },
  {
   "cell_type": "code",
   "execution_count": 34,
   "metadata": {
    "collapsed": false,
    "jupyter": {
     "outputs_hidden": false
    },
    "pycharm": {
     "name": "#%%\n"
    }
   },
   "outputs": [
    {
     "data": {
      "image/png": "[encoded data removed]",
      "text/plain": [
       "<Figure size 640x480 with 1 Axes>"
      ]
     },
     "metadata": {},
     "output_type": "display_data"
    }
   ],
   "source": [
    "box1.inspect(point, style='graph')\n",
    "plt.show()"
   ]
  }
 ],
 "metadata": {
  "kernelspec": {
   "display_name": "Python 3 (ipykernel)",
   "language": "python",
   "name": "python3"
  },
  "language_info": {
   "codemirror_mode": {
    "name": "ipython",
    "version": 3
   },
   "file_extension": ".py",
   "mimetype": "text/x-python",
   "name": "python",
   "nbconvert_exporter": "python",
   "pygments_lexer": "ipython3",
   "version": "3.9.12"
  }
 },
 "nbformat": 4,
 "nbformat_minor": 4
}
